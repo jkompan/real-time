{
 "cells": [
  {
   "cell_type": "code",
   "execution_count": 42,
   "metadata": {},
   "outputs": [],
   "source": [
    "from kafka import KafkaConsumer\n",
    "from datetime import datetime, timedelta\n",
    "import pandas as pd\n",
    "import numpy as np\n",
    "import json\n",
    "import requests"
   ]
  },
  {
   "cell_type": "code",
   "execution_count": 87,
   "metadata": {},
   "outputs": [
    {
     "name": "stdout",
     "output_type": "stream",
     "text": [
      "{'predicted_load': '[20218.01171875]'}\n"
     ]
    },
    {
     "ename": "KeyboardInterrupt",
     "evalue": "",
     "output_type": "error",
     "traceback": [
      "\u001b[1;31m---------------------------------------------------------------------------\u001b[0m",
      "\u001b[1;31mKeyboardInterrupt\u001b[0m                         Traceback (most recent call last)",
      "\u001b[1;32mC:\\Users\\ALTAFL~1\\AppData\\Local\\Temp/ipykernel_23456/2585218615.py\u001b[0m in \u001b[0;36m<module>\u001b[1;34m\u001b[0m\n\u001b[0;32m      8\u001b[0m \u001b[0myear\u001b[0m \u001b[1;33m=\u001b[0m \u001b[1;33m(\u001b[0m\u001b[1;36m365.2425\u001b[0m\u001b[1;33m)\u001b[0m\u001b[1;33m*\u001b[0m\u001b[0mday\u001b[0m\u001b[1;33m\u001b[0m\u001b[1;33m\u001b[0m\u001b[0m\n\u001b[0;32m      9\u001b[0m \u001b[1;33m\u001b[0m\u001b[0m\n\u001b[1;32m---> 10\u001b[1;33m \u001b[1;32mfor\u001b[0m \u001b[0mmessage\u001b[0m \u001b[1;32min\u001b[0m \u001b[0mconsumer\u001b[0m\u001b[1;33m:\u001b[0m\u001b[1;33m\u001b[0m\u001b[1;33m\u001b[0m\u001b[0m\n\u001b[0m\u001b[0;32m     11\u001b[0m     \u001b[1;32mif\u001b[0m \u001b[0mdf\u001b[0m\u001b[1;33m[\u001b[0m\u001b[1;34m'timestamp'\u001b[0m\u001b[1;33m]\u001b[0m\u001b[1;33m.\u001b[0m\u001b[0msize\u001b[0m \u001b[1;33m>\u001b[0m \u001b[1;36m60\u001b[0m\u001b[1;33m*\u001b[0m\u001b[1;36m24\u001b[0m\u001b[1;33m*\u001b[0m\u001b[1;36m2\u001b[0m\u001b[1;33m*\u001b[0m\u001b[1;36m2\u001b[0m\u001b[1;33m:\u001b[0m\u001b[1;33m\u001b[0m\u001b[1;33m\u001b[0m\u001b[0m\n\u001b[0;32m     12\u001b[0m         \u001b[0mdf\u001b[0m \u001b[1;33m=\u001b[0m \u001b[0mdf\u001b[0m\u001b[1;33m.\u001b[0m\u001b[0miloc\u001b[0m\u001b[1;33m[\u001b[0m\u001b[1;36m2\u001b[0m\u001b[1;33m:\u001b[0m\u001b[1;33m,\u001b[0m\u001b[1;33m:\u001b[0m\u001b[1;33m]\u001b[0m\u001b[1;33m\u001b[0m\u001b[1;33m\u001b[0m\u001b[0m\n",
      "\u001b[1;32mc:\\Users\\Altafloresta\\AppData\\Local\\Programs\\Python\\Python310\\lib\\site-packages\\kafka\\consumer\\group.py\u001b[0m in \u001b[0;36m__next__\u001b[1;34m(self)\u001b[0m\n\u001b[0;32m   1191\u001b[0m             \u001b[1;32mreturn\u001b[0m \u001b[0mself\u001b[0m\u001b[1;33m.\u001b[0m\u001b[0mnext_v1\u001b[0m\u001b[1;33m(\u001b[0m\u001b[1;33m)\u001b[0m\u001b[1;33m\u001b[0m\u001b[1;33m\u001b[0m\u001b[0m\n\u001b[0;32m   1192\u001b[0m         \u001b[1;32melse\u001b[0m\u001b[1;33m:\u001b[0m\u001b[1;33m\u001b[0m\u001b[1;33m\u001b[0m\u001b[0m\n\u001b[1;32m-> 1193\u001b[1;33m             \u001b[1;32mreturn\u001b[0m \u001b[0mself\u001b[0m\u001b[1;33m.\u001b[0m\u001b[0mnext_v2\u001b[0m\u001b[1;33m(\u001b[0m\u001b[1;33m)\u001b[0m\u001b[1;33m\u001b[0m\u001b[1;33m\u001b[0m\u001b[0m\n\u001b[0m\u001b[0;32m   1194\u001b[0m \u001b[1;33m\u001b[0m\u001b[0m\n\u001b[0;32m   1195\u001b[0m     \u001b[1;32mdef\u001b[0m \u001b[0mnext_v2\u001b[0m\u001b[1;33m(\u001b[0m\u001b[0mself\u001b[0m\u001b[1;33m)\u001b[0m\u001b[1;33m:\u001b[0m\u001b[1;33m\u001b[0m\u001b[1;33m\u001b[0m\u001b[0m\n",
      "\u001b[1;32mc:\\Users\\Altafloresta\\AppData\\Local\\Programs\\Python\\Python310\\lib\\site-packages\\kafka\\consumer\\group.py\u001b[0m in \u001b[0;36mnext_v2\u001b[1;34m(self)\u001b[0m\n\u001b[0;32m   1199\u001b[0m                 \u001b[0mself\u001b[0m\u001b[1;33m.\u001b[0m\u001b[0m_iterator\u001b[0m \u001b[1;33m=\u001b[0m \u001b[0mself\u001b[0m\u001b[1;33m.\u001b[0m\u001b[0m_message_generator_v2\u001b[0m\u001b[1;33m(\u001b[0m\u001b[1;33m)\u001b[0m\u001b[1;33m\u001b[0m\u001b[1;33m\u001b[0m\u001b[0m\n\u001b[0;32m   1200\u001b[0m             \u001b[1;32mtry\u001b[0m\u001b[1;33m:\u001b[0m\u001b[1;33m\u001b[0m\u001b[1;33m\u001b[0m\u001b[0m\n\u001b[1;32m-> 1201\u001b[1;33m                 \u001b[1;32mreturn\u001b[0m \u001b[0mnext\u001b[0m\u001b[1;33m(\u001b[0m\u001b[0mself\u001b[0m\u001b[1;33m.\u001b[0m\u001b[0m_iterator\u001b[0m\u001b[1;33m)\u001b[0m\u001b[1;33m\u001b[0m\u001b[1;33m\u001b[0m\u001b[0m\n\u001b[0m\u001b[0;32m   1202\u001b[0m             \u001b[1;32mexcept\u001b[0m \u001b[0mStopIteration\u001b[0m\u001b[1;33m:\u001b[0m\u001b[1;33m\u001b[0m\u001b[1;33m\u001b[0m\u001b[0m\n\u001b[0;32m   1203\u001b[0m                 \u001b[0mself\u001b[0m\u001b[1;33m.\u001b[0m\u001b[0m_iterator\u001b[0m \u001b[1;33m=\u001b[0m \u001b[1;32mNone\u001b[0m\u001b[1;33m\u001b[0m\u001b[1;33m\u001b[0m\u001b[0m\n",
      "\u001b[1;32mc:\\Users\\Altafloresta\\AppData\\Local\\Programs\\Python\\Python310\\lib\\site-packages\\kafka\\consumer\\group.py\u001b[0m in \u001b[0;36m_message_generator_v2\u001b[1;34m(self)\u001b[0m\n\u001b[0;32m   1114\u001b[0m     \u001b[1;32mdef\u001b[0m \u001b[0m_message_generator_v2\u001b[0m\u001b[1;33m(\u001b[0m\u001b[0mself\u001b[0m\u001b[1;33m)\u001b[0m\u001b[1;33m:\u001b[0m\u001b[1;33m\u001b[0m\u001b[1;33m\u001b[0m\u001b[0m\n\u001b[0;32m   1115\u001b[0m         \u001b[0mtimeout_ms\u001b[0m \u001b[1;33m=\u001b[0m \u001b[1;36m1000\u001b[0m \u001b[1;33m*\u001b[0m \u001b[1;33m(\u001b[0m\u001b[0mself\u001b[0m\u001b[1;33m.\u001b[0m\u001b[0m_consumer_timeout\u001b[0m \u001b[1;33m-\u001b[0m \u001b[0mtime\u001b[0m\u001b[1;33m.\u001b[0m\u001b[0mtime\u001b[0m\u001b[1;33m(\u001b[0m\u001b[1;33m)\u001b[0m\u001b[1;33m)\u001b[0m\u001b[1;33m\u001b[0m\u001b[1;33m\u001b[0m\u001b[0m\n\u001b[1;32m-> 1116\u001b[1;33m         \u001b[0mrecord_map\u001b[0m \u001b[1;33m=\u001b[0m \u001b[0mself\u001b[0m\u001b[1;33m.\u001b[0m\u001b[0mpoll\u001b[0m\u001b[1;33m(\u001b[0m\u001b[0mtimeout_ms\u001b[0m\u001b[1;33m=\u001b[0m\u001b[0mtimeout_ms\u001b[0m\u001b[1;33m,\u001b[0m \u001b[0mupdate_offsets\u001b[0m\u001b[1;33m=\u001b[0m\u001b[1;32mFalse\u001b[0m\u001b[1;33m)\u001b[0m\u001b[1;33m\u001b[0m\u001b[1;33m\u001b[0m\u001b[0m\n\u001b[0m\u001b[0;32m   1117\u001b[0m         \u001b[1;32mfor\u001b[0m \u001b[0mtp\u001b[0m\u001b[1;33m,\u001b[0m \u001b[0mrecords\u001b[0m \u001b[1;32min\u001b[0m \u001b[0msix\u001b[0m\u001b[1;33m.\u001b[0m\u001b[0miteritems\u001b[0m\u001b[1;33m(\u001b[0m\u001b[0mrecord_map\u001b[0m\u001b[1;33m)\u001b[0m\u001b[1;33m:\u001b[0m\u001b[1;33m\u001b[0m\u001b[1;33m\u001b[0m\u001b[0m\n\u001b[0;32m   1118\u001b[0m             \u001b[1;31m# Generators are stateful, and it is possible that the tp / records\u001b[0m\u001b[1;33m\u001b[0m\u001b[1;33m\u001b[0m\u001b[0m\n",
      "\u001b[1;32mc:\\Users\\Altafloresta\\AppData\\Local\\Programs\\Python\\Python310\\lib\\site-packages\\kafka\\consumer\\group.py\u001b[0m in \u001b[0;36mpoll\u001b[1;34m(self, timeout_ms, max_records, update_offsets)\u001b[0m\n\u001b[0;32m    653\u001b[0m         \u001b[0mremaining\u001b[0m \u001b[1;33m=\u001b[0m \u001b[0mtimeout_ms\u001b[0m\u001b[1;33m\u001b[0m\u001b[1;33m\u001b[0m\u001b[0m\n\u001b[0;32m    654\u001b[0m         \u001b[1;32mwhile\u001b[0m \u001b[1;32mTrue\u001b[0m\u001b[1;33m:\u001b[0m\u001b[1;33m\u001b[0m\u001b[1;33m\u001b[0m\u001b[0m\n\u001b[1;32m--> 655\u001b[1;33m             \u001b[0mrecords\u001b[0m \u001b[1;33m=\u001b[0m \u001b[0mself\u001b[0m\u001b[1;33m.\u001b[0m\u001b[0m_poll_once\u001b[0m\u001b[1;33m(\u001b[0m\u001b[0mremaining\u001b[0m\u001b[1;33m,\u001b[0m \u001b[0mmax_records\u001b[0m\u001b[1;33m,\u001b[0m \u001b[0mupdate_offsets\u001b[0m\u001b[1;33m=\u001b[0m\u001b[0mupdate_offsets\u001b[0m\u001b[1;33m)\u001b[0m\u001b[1;33m\u001b[0m\u001b[1;33m\u001b[0m\u001b[0m\n\u001b[0m\u001b[0;32m    656\u001b[0m             \u001b[1;32mif\u001b[0m \u001b[0mrecords\u001b[0m\u001b[1;33m:\u001b[0m\u001b[1;33m\u001b[0m\u001b[1;33m\u001b[0m\u001b[0m\n\u001b[0;32m    657\u001b[0m                 \u001b[1;32mreturn\u001b[0m \u001b[0mrecords\u001b[0m\u001b[1;33m\u001b[0m\u001b[1;33m\u001b[0m\u001b[0m\n",
      "\u001b[1;32mc:\\Users\\Altafloresta\\AppData\\Local\\Programs\\Python\\Python310\\lib\\site-packages\\kafka\\consumer\\group.py\u001b[0m in \u001b[0;36m_poll_once\u001b[1;34m(self, timeout_ms, max_records, update_offsets)\u001b[0m\n\u001b[0;32m    700\u001b[0m \u001b[1;33m\u001b[0m\u001b[0m\n\u001b[0;32m    701\u001b[0m         \u001b[0mtimeout_ms\u001b[0m \u001b[1;33m=\u001b[0m \u001b[0mmin\u001b[0m\u001b[1;33m(\u001b[0m\u001b[0mtimeout_ms\u001b[0m\u001b[1;33m,\u001b[0m \u001b[0mself\u001b[0m\u001b[1;33m.\u001b[0m\u001b[0m_coordinator\u001b[0m\u001b[1;33m.\u001b[0m\u001b[0mtime_to_next_poll\u001b[0m\u001b[1;33m(\u001b[0m\u001b[1;33m)\u001b[0m \u001b[1;33m*\u001b[0m \u001b[1;36m1000\u001b[0m\u001b[1;33m)\u001b[0m\u001b[1;33m\u001b[0m\u001b[1;33m\u001b[0m\u001b[0m\n\u001b[1;32m--> 702\u001b[1;33m         \u001b[0mself\u001b[0m\u001b[1;33m.\u001b[0m\u001b[0m_client\u001b[0m\u001b[1;33m.\u001b[0m\u001b[0mpoll\u001b[0m\u001b[1;33m(\u001b[0m\u001b[0mtimeout_ms\u001b[0m\u001b[1;33m=\u001b[0m\u001b[0mtimeout_ms\u001b[0m\u001b[1;33m)\u001b[0m\u001b[1;33m\u001b[0m\u001b[1;33m\u001b[0m\u001b[0m\n\u001b[0m\u001b[0;32m    703\u001b[0m         \u001b[1;31m# after the long poll, we should check whether the group needs to rebalance\u001b[0m\u001b[1;33m\u001b[0m\u001b[1;33m\u001b[0m\u001b[0m\n\u001b[0;32m    704\u001b[0m         \u001b[1;31m# prior to returning data so that the group can stabilize faster\u001b[0m\u001b[1;33m\u001b[0m\u001b[1;33m\u001b[0m\u001b[0m\n",
      "\u001b[1;32mc:\\Users\\Altafloresta\\AppData\\Local\\Programs\\Python\\Python310\\lib\\site-packages\\kafka\\client_async.py\u001b[0m in \u001b[0;36mpoll\u001b[1;34m(self, timeout_ms, future)\u001b[0m\n\u001b[0;32m    600\u001b[0m                     \u001b[0mtimeout\u001b[0m \u001b[1;33m=\u001b[0m \u001b[0mmax\u001b[0m\u001b[1;33m(\u001b[0m\u001b[1;36m0\u001b[0m\u001b[1;33m,\u001b[0m \u001b[0mtimeout\u001b[0m\u001b[1;33m)\u001b[0m  \u001b[1;31m# avoid negative timeouts\u001b[0m\u001b[1;33m\u001b[0m\u001b[1;33m\u001b[0m\u001b[0m\n\u001b[0;32m    601\u001b[0m \u001b[1;33m\u001b[0m\u001b[0m\n\u001b[1;32m--> 602\u001b[1;33m                 \u001b[0mself\u001b[0m\u001b[1;33m.\u001b[0m\u001b[0m_poll\u001b[0m\u001b[1;33m(\u001b[0m\u001b[0mtimeout\u001b[0m \u001b[1;33m/\u001b[0m \u001b[1;36m1000\u001b[0m\u001b[1;33m)\u001b[0m\u001b[1;33m\u001b[0m\u001b[1;33m\u001b[0m\u001b[0m\n\u001b[0m\u001b[0;32m    603\u001b[0m \u001b[1;33m\u001b[0m\u001b[0m\n\u001b[0;32m    604\u001b[0m             \u001b[1;31m# called without the lock to avoid deadlock potential\u001b[0m\u001b[1;33m\u001b[0m\u001b[1;33m\u001b[0m\u001b[0m\n",
      "\u001b[1;32mc:\\Users\\Altafloresta\\AppData\\Local\\Programs\\Python\\Python310\\lib\\site-packages\\kafka\\client_async.py\u001b[0m in \u001b[0;36m_poll\u001b[1;34m(self, timeout)\u001b[0m\n\u001b[0;32m    632\u001b[0m \u001b[1;33m\u001b[0m\u001b[0m\n\u001b[0;32m    633\u001b[0m         \u001b[0mstart_select\u001b[0m \u001b[1;33m=\u001b[0m \u001b[0mtime\u001b[0m\u001b[1;33m.\u001b[0m\u001b[0mtime\u001b[0m\u001b[1;33m(\u001b[0m\u001b[1;33m)\u001b[0m\u001b[1;33m\u001b[0m\u001b[1;33m\u001b[0m\u001b[0m\n\u001b[1;32m--> 634\u001b[1;33m         \u001b[0mready\u001b[0m \u001b[1;33m=\u001b[0m \u001b[0mself\u001b[0m\u001b[1;33m.\u001b[0m\u001b[0m_selector\u001b[0m\u001b[1;33m.\u001b[0m\u001b[0mselect\u001b[0m\u001b[1;33m(\u001b[0m\u001b[0mtimeout\u001b[0m\u001b[1;33m)\u001b[0m\u001b[1;33m\u001b[0m\u001b[1;33m\u001b[0m\u001b[0m\n\u001b[0m\u001b[0;32m    635\u001b[0m         \u001b[0mend_select\u001b[0m \u001b[1;33m=\u001b[0m \u001b[0mtime\u001b[0m\u001b[1;33m.\u001b[0m\u001b[0mtime\u001b[0m\u001b[1;33m(\u001b[0m\u001b[1;33m)\u001b[0m\u001b[1;33m\u001b[0m\u001b[1;33m\u001b[0m\u001b[0m\n\u001b[0;32m    636\u001b[0m         \u001b[1;32mif\u001b[0m \u001b[0mself\u001b[0m\u001b[1;33m.\u001b[0m\u001b[0m_sensors\u001b[0m\u001b[1;33m:\u001b[0m\u001b[1;33m\u001b[0m\u001b[1;33m\u001b[0m\u001b[0m\n",
      "\u001b[1;32mc:\\Users\\Altafloresta\\AppData\\Local\\Programs\\Python\\Python310\\lib\\selectors.py\u001b[0m in \u001b[0;36mselect\u001b[1;34m(self, timeout)\u001b[0m\n\u001b[0;32m    322\u001b[0m         \u001b[0mready\u001b[0m \u001b[1;33m=\u001b[0m \u001b[1;33m[\u001b[0m\u001b[1;33m]\u001b[0m\u001b[1;33m\u001b[0m\u001b[1;33m\u001b[0m\u001b[0m\n\u001b[0;32m    323\u001b[0m         \u001b[1;32mtry\u001b[0m\u001b[1;33m:\u001b[0m\u001b[1;33m\u001b[0m\u001b[1;33m\u001b[0m\u001b[0m\n\u001b[1;32m--> 324\u001b[1;33m             \u001b[0mr\u001b[0m\u001b[1;33m,\u001b[0m \u001b[0mw\u001b[0m\u001b[1;33m,\u001b[0m \u001b[0m_\u001b[0m \u001b[1;33m=\u001b[0m \u001b[0mself\u001b[0m\u001b[1;33m.\u001b[0m\u001b[0m_select\u001b[0m\u001b[1;33m(\u001b[0m\u001b[0mself\u001b[0m\u001b[1;33m.\u001b[0m\u001b[0m_readers\u001b[0m\u001b[1;33m,\u001b[0m \u001b[0mself\u001b[0m\u001b[1;33m.\u001b[0m\u001b[0m_writers\u001b[0m\u001b[1;33m,\u001b[0m \u001b[1;33m[\u001b[0m\u001b[1;33m]\u001b[0m\u001b[1;33m,\u001b[0m \u001b[0mtimeout\u001b[0m\u001b[1;33m)\u001b[0m\u001b[1;33m\u001b[0m\u001b[1;33m\u001b[0m\u001b[0m\n\u001b[0m\u001b[0;32m    325\u001b[0m         \u001b[1;32mexcept\u001b[0m \u001b[0mInterruptedError\u001b[0m\u001b[1;33m:\u001b[0m\u001b[1;33m\u001b[0m\u001b[1;33m\u001b[0m\u001b[0m\n\u001b[0;32m    326\u001b[0m             \u001b[1;32mreturn\u001b[0m \u001b[0mready\u001b[0m\u001b[1;33m\u001b[0m\u001b[1;33m\u001b[0m\u001b[0m\n",
      "\u001b[1;32mc:\\Users\\Altafloresta\\AppData\\Local\\Programs\\Python\\Python310\\lib\\selectors.py\u001b[0m in \u001b[0;36m_select\u001b[1;34m(self, r, w, _, timeout)\u001b[0m\n\u001b[0;32m    313\u001b[0m     \u001b[1;32mif\u001b[0m \u001b[0msys\u001b[0m\u001b[1;33m.\u001b[0m\u001b[0mplatform\u001b[0m \u001b[1;33m==\u001b[0m \u001b[1;34m'win32'\u001b[0m\u001b[1;33m:\u001b[0m\u001b[1;33m\u001b[0m\u001b[1;33m\u001b[0m\u001b[0m\n\u001b[0;32m    314\u001b[0m         \u001b[1;32mdef\u001b[0m \u001b[0m_select\u001b[0m\u001b[1;33m(\u001b[0m\u001b[0mself\u001b[0m\u001b[1;33m,\u001b[0m \u001b[0mr\u001b[0m\u001b[1;33m,\u001b[0m \u001b[0mw\u001b[0m\u001b[1;33m,\u001b[0m \u001b[0m_\u001b[0m\u001b[1;33m,\u001b[0m \u001b[0mtimeout\u001b[0m\u001b[1;33m=\u001b[0m\u001b[1;32mNone\u001b[0m\u001b[1;33m)\u001b[0m\u001b[1;33m:\u001b[0m\u001b[1;33m\u001b[0m\u001b[1;33m\u001b[0m\u001b[0m\n\u001b[1;32m--> 315\u001b[1;33m             \u001b[0mr\u001b[0m\u001b[1;33m,\u001b[0m \u001b[0mw\u001b[0m\u001b[1;33m,\u001b[0m \u001b[0mx\u001b[0m \u001b[1;33m=\u001b[0m \u001b[0mselect\u001b[0m\u001b[1;33m.\u001b[0m\u001b[0mselect\u001b[0m\u001b[1;33m(\u001b[0m\u001b[0mr\u001b[0m\u001b[1;33m,\u001b[0m \u001b[0mw\u001b[0m\u001b[1;33m,\u001b[0m \u001b[0mw\u001b[0m\u001b[1;33m,\u001b[0m \u001b[0mtimeout\u001b[0m\u001b[1;33m)\u001b[0m\u001b[1;33m\u001b[0m\u001b[1;33m\u001b[0m\u001b[0m\n\u001b[0m\u001b[0;32m    316\u001b[0m             \u001b[1;32mreturn\u001b[0m \u001b[0mr\u001b[0m\u001b[1;33m,\u001b[0m \u001b[0mw\u001b[0m \u001b[1;33m+\u001b[0m \u001b[0mx\u001b[0m\u001b[1;33m,\u001b[0m \u001b[1;33m[\u001b[0m\u001b[1;33m]\u001b[0m\u001b[1;33m\u001b[0m\u001b[1;33m\u001b[0m\u001b[0m\n\u001b[0;32m    317\u001b[0m     \u001b[1;32melse\u001b[0m\u001b[1;33m:\u001b[0m\u001b[1;33m\u001b[0m\u001b[1;33m\u001b[0m\u001b[0m\n",
      "\u001b[1;31mKeyboardInterrupt\u001b[0m: "
     ]
    }
   ],
   "source": [
    "consumer = KafkaConsumer(bootstrap_servers=['localhost:29092'])\n",
    "consumer.subscribe(['rtdata'])\n",
    "\n",
    "df = pd.DataFrame(columns=['timestamp','variable','value','delta','Day sin','Day cos','Week sin','Week cos','Year sin','Year cos'])\n",
    "\n",
    "day = 24*60*60\n",
    "week = 7*day\n",
    "year = (365.2425)*day\n",
    "\n",
    "for message in consumer:\n",
    "    if df['timestamp'].size > 60*24*2*2:\n",
    "        df = df.iloc[2:,:]\n",
    "    new = pd.DataFrame.from_dict(json.loads(message.value.decode(\"utf-8\")))\n",
    "    new['timestamp'] = pd.to_datetime(new['timestamp'])\n",
    "    new['delta'] = new.apply(lambda row: int((row['timestamp'] - datetime.now()).total_seconds()/3600), axis=1)\n",
    "    seconds = new['timestamp'].map(pd.Timestamp.timestamp)\n",
    "    new['Day sin'] = np.sin(seconds * (2 * np.pi / day))\n",
    "    new['Day cos'] = np.cos(seconds * (2 * np.pi / day)) \n",
    "    new['Week sin'] = np.sin(seconds * (2 * np.pi / week))\n",
    "    new['Week cos'] = np.cos(seconds * (2 * np.pi / week))\n",
    "    new['Year sin'] = np.sin(seconds * (2 * np.pi / year))\n",
    "    new['Year cos'] = np.cos(seconds * (2 * np.pi / year))\n",
    "    df = pd.concat([df,new])\n",
    "    df = df[df['delta']<24]\n",
    "    load = np.array(df[df['variable']=='load'].groupby(['delta'])['value'].mean())\n",
    "    temperature = np.array(df[df['variable']=='temperature'].groupby(['delta'])['value'].mean())\n",
    "    fourier = np.array(df.groupby(['delta']).mean(numeric_only=True).iloc[:,1:])\n",
    "    \n",
    "    if (load.shape[0] == 24) and (temperature.shape[0] == 24):\n",
    "        data_tbs = np.stack([np.c_[load, np.zeros(len(load)), temperature, fourier]])\n",
    "        params={'data': data_tbs.tolist()}\n",
    "        response = requests.post(\"http://127.0.0.1:5000/forecast\", json=json.dumps(params))\n",
    "        print(json.loads(response.content))\n",
    "\n"
   ]
  },
  {
   "cell_type": "code",
   "execution_count": 85,
   "metadata": {},
   "outputs": [
    {
     "name": "stdout",
     "output_type": "stream",
     "text": [
      "[20766.169921875]\n"
     ]
    }
   ],
   "source": []
  },
  {
   "cell_type": "code",
   "execution_count": 71,
   "metadata": {},
   "outputs": [
    {
     "data": {
      "text/plain": [
       "array([[ 2.10392880e+04,  0.00000000e+00,  2.02300000e+01,\n",
       "        -1.00000000e+00, -6.04500013e-13,  6.23489802e-01,\n",
       "        -7.81831482e-01,  3.65070779e-01, -9.30979767e-01],\n",
       "       [ 2.10797130e+04,  0.00000000e+00,  1.88970000e+01,\n",
       "        -9.65925826e-01,  2.58819045e-01,  5.93820186e-01,\n",
       "        -8.04597780e-01,  3.64403376e-01, -9.31241204e-01],\n",
       "       [ 2.09174250e+04,  0.00000000e+00,  1.81320000e+01,\n",
       "        -8.66025404e-01,  5.00000000e-01,  5.63320058e-01,\n",
       "        -8.26238774e-01,  3.63735785e-01, -9.31502163e-01],\n",
       "       [ 1.98127500e+04,  0.00000000e+00,  1.74340000e+01,\n",
       "        -7.07106781e-01,  7.07106781e-01,  5.32032077e-01,\n",
       "        -8.46724199e-01,  3.63068007e-01, -9.31762643e-01],\n",
       "       [ 1.82256380e+04,  0.00000000e+00,  1.67900000e+01,\n",
       "        -5.00000000e-01,  8.66025404e-01,  5.00000000e-01,\n",
       "        -8.66025404e-01,  3.62400043e-01, -9.32022644e-01],\n",
       "       [ 1.69309630e+04,  0.00000000e+00,  1.62630000e+01,\n",
       "        -2.58819045e-01,  9.65925826e-01,  4.67268628e-01,\n",
       "        -8.84115394e-01,  3.61731892e-01, -9.32282167e-01],\n",
       "       [ 1.46377630e+04,  0.00000000e+00,  1.84270000e+01,\n",
       "        -3.16784416e-12,  1.00000000e+00,  4.33883739e-01,\n",
       "        -9.00968868e-01,  3.61063556e-01, -9.32541210e-01],\n",
       "       [ 1.44229500e+04,  0.00000000e+00,  1.80240000e+01,\n",
       "         2.58819045e-01,  9.65925826e-01,  3.99892024e-01,\n",
       "        -9.16562256e-01,  3.60395034e-01, -9.32799774e-01],\n",
       "       [ 1.42779500e+04,  0.00000000e+00,  1.76790000e+01,\n",
       "         5.00000000e-01,  8.66025404e-01,  3.65341024e-01,\n",
       "        -9.30873749e-01,  3.59726327e-01, -9.33057860e-01],\n",
       "       [ 1.39855000e+04,  0.00000000e+00,  1.78720000e+01,\n",
       "         7.07106781e-01,  7.07106781e-01,  3.30279062e-01,\n",
       "        -9.43883330e-01,  3.59057436e-01, -9.33315465e-01],\n",
       "       [ 1.47727130e+04,  0.00000000e+00,  1.84240000e+01,\n",
       "         8.66025404e-01,  5.00000000e-01,  2.94755174e-01,\n",
       "        -9.55572806e-01,  3.58388359e-01, -9.33572592e-01],\n",
       "       [ 1.78242130e+04,  0.00000000e+00,  1.93780000e+01,\n",
       "         9.65925826e-01,  2.58819045e-01,  2.58819045e-01,\n",
       "        -9.65925826e-01,  3.57719099e-01, -9.33829238e-01],\n",
       "       [ 2.02801130e+04,  0.00000000e+00,  2.05780000e+01,\n",
       "         1.00000000e+00,  5.73118832e-12,  2.22520934e-01,\n",
       "        -9.74927912e-01,  3.57049655e-01, -9.34085405e-01],\n",
       "       [ 2.15831250e+04,  0.00000000e+00,  2.16870000e+01,\n",
       "         9.65925826e-01, -2.58819045e-01,  1.85911607e-01,\n",
       "        -9.82566473e-01,  3.56380027e-01, -9.34341092e-01],\n",
       "       [ 2.21347250e+04,  0.00000000e+00,  2.26540000e+01,\n",
       "         8.66025404e-01, -5.00000000e-01,  1.49042266e-01,\n",
       "        -9.88830826e-01,  3.55710216e-01, -9.34596299e-01],\n",
       "       [ 2.21345380e+04,  0.00000000e+00,  2.35280000e+01,\n",
       "         7.07106781e-01, -7.07106781e-01,  1.11964476e-01,\n",
       "        -9.93712210e-01,  3.55040223e-01, -9.34851026e-01],\n",
       "       [ 2.25233880e+04,  0.00000000e+00,  2.42380000e+01,\n",
       "         5.00000000e-01, -8.66025404e-01,  7.47300936e-02,\n",
       "        -9.97203797e-01,  3.54370047e-01, -9.35105272e-01],\n",
       "       [ 2.26420750e+04,  0.00000000e+00,  2.47060000e+01,\n",
       "         2.58819045e-01, -9.65925826e-01,  3.73911943e-02,\n",
       "        -9.99300705e-01,  3.53699689e-01, -9.35359038e-01],\n",
       "       [ 2.26272380e+04,  0.00000000e+00,  2.48990000e+01,\n",
       "         8.29453247e-12, -1.00000000e+00,  6.65221951e-13,\n",
       "        -1.00000000e+00,  3.53029149e-01, -9.35612323e-01],\n",
       "       [ 2.22077750e+04,  0.00000000e+00,  2.48700000e+01,\n",
       "        -2.58819045e-01, -9.65925826e-01, -3.73911943e-02,\n",
       "        -9.99300705e-01,  3.52358428e-01, -9.35865128e-01],\n",
       "       [ 2.21000000e+04,  0.00000000e+00,  2.46050000e+01,\n",
       "        -5.00000000e-01, -8.66025404e-01, -7.47300936e-02,\n",
       "        -9.97203797e-01,  3.51687526e-01, -9.36117452e-01],\n",
       "       [ 2.17136250e+04,  0.00000000e+00,  2.41110000e+01,\n",
       "        -7.07106781e-01, -7.07106781e-01, -1.11964476e-01,\n",
       "        -9.93712210e-01,  3.51016443e-01, -9.36369295e-01],\n",
       "       [ 2.13995000e+04,  0.00000000e+00,  2.33580000e+01,\n",
       "        -8.66025404e-01, -5.00000000e-01, -1.49042266e-01,\n",
       "        -9.88830826e-01,  3.50345180e-01, -9.36620657e-01],\n",
       "       [ 1.78668190e+04,  0.00000000e+00,  2.20805000e+01,\n",
       "        -9.80434406e-01, -1.79630175e-01, -1.97198703e-01,\n",
       "        -9.80295934e-01,  3.49466991e-01, -9.36948651e-01]])"
      ]
     },
     "execution_count": 71,
     "metadata": {},
     "output_type": "execute_result"
    }
   ],
   "source": [
    "    req = request.json\n",
    "    data = np.array(req['data'])\n",
    "    xdim = data.shape[2]\n",
    "    \n",
    "    scaler = MinMaxScaler()\n",
    "    scaled_data = scaler.fit_transform(data[0])\n",
    "    \n",
    "    # Load pickle file with saved model\n",
    "    with open('model.pkl',\"rb\") as saved_model:\n",
    "        model = pickle.load(saved_model)\n",
    "\n",
    "    # Predict next hour\n",
    "    output = model.predict(scaled_data)\n",
    "    to_inverse = np.repeat(output, xdim, axis=-1)\n",
    "    predicted_load = scaler.inverse_transform(to_inverse)[:,0]\n",
    "    "
   ]
  },
  {
   "cell_type": "code",
   "execution_count": 79,
   "metadata": {},
   "outputs": [
    {
     "data": {
      "text/plain": [
       "'{\"data\": [[[21039.288, 0.0, 20.23, -1.0, -6.045000127414911e-13, 0.6234898018579884, -0.781831482468624, 0.36507077924685966, -0.9309797667726677], [21079.713, 0.0, 18.897, -0.9659258262905908, 0.25881904509683884, 0.5938201855745959, -0.8045977797658607, 0.3644033756301696, -0.931241203893673], [20917.425, 0.0, 18.132, -0.8660254037900188, 0.49999999999033495, 0.563320058063651, -0.826238774315975, 0.36373578479142255, -0.9315021625644075], [19812.75, 0.0, 17.434, -0.7071067811878813, 0.7071067811852138, 0.5320320765142446, -0.8467241992289704, 0.3630680070736112, -0.9317626426507967], [18225.638, 0.0, 16.79, -0.5000000000062043, 0.8660254037808567, 0.5000000000008863, -0.8660254037839269, 0.36240004281982446, -0.9320226440190117], [16930.963, 0.0, 16.263, -0.25881904511453874, 0.9659258262858481, 0.46726862827279547, -0.8841153935047507, 0.361731892373247, -0.9322821665354699], [14637.763, 0.0, 18.427, -3.16784416433601e-12, 1.0, 0.4338837391160929, -0.9009688679031248, 0.36106355607715895, -0.9325412100668347], [14422.95, 0.0, 18.024, 0.2588190450943628, 0.9659258262912542, 0.39989202432037046, -0.9165622558697015, 0.36039503427493624, -0.9327997744800154], [14277.95, 0.0, 17.679, 0.49999999998811506, 0.8660254037913004, 0.36534102436580107, -0.9308737486444374, 0.35972632730999693, -0.933057859642188], [13985.5, 0.0, 17.872, 0.7071067811834013, 0.7071067811896938, 0.33027906195674817, -0.9438833303078143, 0.35905743552601327, -0.9333154654207134], [14772.713, 0.0, 18.424, 0.8660254037795749, 0.5000000000084242, 0.2947551744112389, -0.9555728057860375, 0.3583883592665934, -0.9335725916832601], [17824.213, 0.0, 19.378, 0.965925826288951, 0.25881904510295867, 0.2588190451015793, -0.9659258262893206, 0.3577190988754933, -0.9338292382977227], [20280.113, 0.0, 20.578, 1.0, 5.731188315930529e-12, 0.2225209339576193, -0.9749279121815257, 0.3570496546965636, -0.934085405132242], [21583.125, 0.0, 21.687, 0.9659258262919176, -0.25881904509188686, 0.18591160716292793, -0.9825664732332857, 0.35638002707374916, -0.9343410920552054], [22134.725, 0.0, 22.654, 0.8660254037853061, -0.4999999999984974, 0.1490422661748778, -0.988830826225324, 0.3557102163510893, -0.9345962989352468], [22134.538, 0.0, 23.528, 0.7071067811915064, -0.7071067811815888, 0.11196447610430339, -0.9937122098931304, 0.35504022287271736, -0.9348510256412469], [22523.388, 0.0, 24.238, 0.500000000010644, -0.8660254037782933, 0.07473009358610214, -0.9972037971812043, 0.35437004698286056, -0.9351052720423327], [22642.075, 0.0, 24.706, 0.25881904510543463, -0.9659258262882875, 0.03739119427467888, -0.9993007047884601, 0.35369968902583976, -0.9353590380078787], [22627.238, 0.0, 24.899, 8.294532467525048e-12, -1.0, 6.652219514904764e-13, -1.0, 0.35302914934606944, -0.9356123234075054], [22207.775, 0.0, 24.87, -0.25881904508941084, -0.9659258262925811, -0.037391194276984806, -0.9993007047883739, 0.35235842828805747, -0.9358651281110809], [22100.0, 0.0, 24.605, -0.49999999999627753, -0.8660254037865879, -0.0747300935847754, -0.9972037971813037, 0.35168752619640486, -0.9361174519887198], [21713.625, 0.0, 24.111, -0.7071067811797761, -0.7071067811933189, -0.11196447610298131, -0.9937122098932794, 0.3510164434158057, -0.9363692949107838], [21399.5, 0.0, 23.358, -0.8660254037842876, -0.5000000000002617, -0.14904226617715957, -0.9888308262249801, 0.3503451802910467, -0.9366206567478821], [21017.638, 0.0, 22.161, -0.965925826287624, -0.25881904510791065, -0.1859116071616207, -0.9825664732335331, 0.34967373716695427, -0.9368715373708905]]]}'"
      ]
     },
     "execution_count": 79,
     "metadata": {},
     "output_type": "execute_result"
    }
   ],
   "source": [
    "json.dumps(params)"
   ]
  }
 ],
 "metadata": {
  "kernelspec": {
   "display_name": "Python 3",
   "language": "python",
   "name": "python3"
  },
  "language_info": {
   "codemirror_mode": {
    "name": "ipython",
    "version": 3
   },
   "file_extension": ".py",
   "mimetype": "text/x-python",
   "name": "python",
   "nbconvert_exporter": "python",
   "pygments_lexer": "ipython3",
   "version": "3.10.0"
  },
  "orig_nbformat": 4
 },
 "nbformat": 4,
 "nbformat_minor": 2
}
