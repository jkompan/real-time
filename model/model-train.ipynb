{
 "cells": [
  {
   "cell_type": "code",
   "execution_count": 2,
   "metadata": {},
   "outputs": [],
   "source": [
    "import tensorflow as tf\n",
    "import os\n",
    "import numpy as np\n",
    "import pandas as pd\n",
    "import matplotlib.pyplot as plt\n",
    "import pickle"
   ]
  },
  {
   "cell_type": "code",
   "execution_count": 1,
   "metadata": {},
   "outputs": [],
   "source": [
    "from sklearn.preprocessing import MinMaxScaler\n",
    "from sklearn.metrics import mean_squared_error\n",
    "from keras.models import Sequential\n",
    "from keras.layers import Dense, LSTM, Dropout"
   ]
  },
  {
   "cell_type": "code",
   "execution_count": 3,
   "metadata": {},
   "outputs": [],
   "source": [
    "DATA = pd.read_csv('data.csv')\n",
    "DATA['Demand'] = DATA['Demand']/1000"
   ]
  },
  {
   "cell_type": "code",
   "execution_count": null,
   "metadata": {},
   "outputs": [],
   "source": [
    "DATA.index = pd.to_datetime(DATA['Time'], format='%Y-%m-%d %H:%M:%S')\n",
    "train_set, test_set = DATA.loc[:'2018-12-31'], DATA.loc['2019-01-01':]\n",
    "ntrain = len(train_set)\n",
    "ntest = len(test_set)"
   ]
  },
  {
   "cell_type": "code",
   "execution_count": null,
   "metadata": {},
   "outputs": [],
   "source": [
    "seconds = DATA.index.map(pd.Timestamp.timestamp)\n",
    "day = 24*60*60\n",
    "week = 7*day\n",
    "year = (365.2425)*day\n",
    "DATA['Day sin'] = np.sin(seconds * (2 * np.pi / day))\n",
    "DATA['Day cos'] = np.cos(seconds * (2 * np.pi / day))\n",
    "DATA['Week sin'] = np.sin(seconds * (2 * np.pi / week))\n",
    "DATA['Week cos'] = np.cos(seconds * (2 * np.pi / week))\n",
    "DATA['Year sin'] = np.sin(seconds * (2 * np.pi / year))\n",
    "DATA['Year cos'] = np.cos(seconds * (2 * np.pi / year))"
   ]
  },
  {
   "cell_type": "code",
   "execution_count": null,
   "metadata": {},
   "outputs": [],
   "source": [
    "scaler = MinMaxScaler()\n",
    "scaled = scaler.fit_transform(DATA[['Demand','NonWeekend_holiday','Temperature',\n",
    "                                    'Day sin','Day cos','Week sin','Week cos',\n",
    "                                    'Year sin','Year cos']])\n",
    "\n",
    "# shift regressors' series so the value at moment t is used for prediction at t\n",
    "reg = scaled[1:,1:]\n",
    "scaled[:(len(scaled)-1),1:] = reg\n",
    "\n",
    "\n",
    "# create a proper input (X) tensor & output (y) vector \n",
    "\n",
    "X = []\n",
    "y = []\n",
    "\n",
    "horizon = 1     # forecast horizon\n",
    "nlags = 24      # number of lags used for forecasting\n",
    "\n",
    "for i in range(nlags, len(scaled)-horizon+1):\n",
    "    X.append(scaled[i-nlags:i, :])\n",
    "    y.append(scaled[i+horizon-1:i+horizon, 0])\n",
    "\n",
    "X, y = np.array(X), np.array(y)\n",
    "\n",
    "print(X.shape, y.shape)\n",
    "xdim = X.shape[2]\n",
    "X_train, y_train = X[:(ntrain-nlags)], y[:(ntrain-nlags)]\n",
    "X_test, y_test = X[(ntrain-nlags):], y[(ntrain-nlags):]"
   ]
  },
  {
   "cell_type": "code",
   "execution_count": null,
   "metadata": {},
   "outputs": [],
   "source": [
    "# LSTM neural network\n",
    "model = Sequential()\n",
    "model.add(LSTM(128, activation='relu', input_shape=(nlags, xdim), return_sequences=True))\n",
    "model.add(Dropout(0.2))\n",
    "model.add(LSTM(64, activation='relu', return_sequences=False))\n",
    "model.add(Dropout(0.2))\n",
    "model.add(Dense(1, 'linear'))\n",
    "\n",
    "model.compile(optimizer='adam', loss='mse')\n",
    "\n",
    "fit = model.fit(X_train, y_train, epochs=40, batch_size=32, validation_split=0.1)\n",
    "#loss = np.asarray(fit.history['loss'])\n",
    "plt.plot(fit.history['loss'], label='Training loss')\n",
    "plt.plot(fit.history['val_loss'], label='Validation loss')\n",
    "plt.legend()\n",
    "\n",
    "with open('model.pkl', \"wb\") as picklefile:\n",
    "    pickle.dump(model, picklefile)"
   ]
  }
 ],
 "metadata": {
  "kernelspec": {
   "display_name": "Python 3",
   "language": "python",
   "name": "python3"
  },
  "language_info": {
   "codemirror_mode": {
    "name": "ipython",
    "version": 3
   },
   "file_extension": ".py",
   "mimetype": "text/x-python",
   "name": "python",
   "nbconvert_exporter": "python",
   "pygments_lexer": "ipython3",
   "version": "3.10.0"
  },
  "orig_nbformat": 4
 },
 "nbformat": 4,
 "nbformat_minor": 2
}
